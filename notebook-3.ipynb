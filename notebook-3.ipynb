{
 "cells": [
  {
   "cell_type": "code",
   "execution_count": 1,
   "metadata": {
    "_uuid": "7e3994a996427f9d645458bc5fc6bd2efffc851c",
    "colab": {},
    "colab_type": "code",
    "id": "a192xmwKijHs"
   },
   "outputs": [],
   "source": [
    "import os\n",
    "import sys\n",
    "import pickle\n",
    "import numpy as np\n",
    "import pandas as pd\n",
    "from PIL import Image, ImageFilter\n",
    "from tqdm import tqdm_notebook\n",
    "from sklearn.preprocessing import StandardScaler\n",
    "from sklearn.metrics import accuracy_score, mean_squared_error, log_loss, confusion_matrix\n",
    "import matplotlib.pyplot as plt\n",
    "\n",
    "np.random.seed(100)\n",
    "LEVEL = 'level_1'"
   ]
  },
  {
   "cell_type": "code",
   "execution_count": 2,
   "metadata": {
    "_uuid": "cf2311d4086c7dd836b0cd14d5366bfe0ab6927d",
    "colab": {},
    "colab_type": "code",
    "id": "fIuRdSezijHx"
   },
   "outputs": [],
   "source": [
    "class SigmoidNeuron:\n",
    "  \n",
    "  def __init__(self):\n",
    "    self.w = None\n",
    "    self.b = None\n",
    "    self.i = None\n",
    "    \n",
    "  def perceptron(self, x):\n",
    "    return np.dot(x, self.w.T) + self.b\n",
    "  \n",
    "  def sigmoid(self, x):\n",
    "    return 1.0/(1.0 + np.exp(-x))\n",
    "  \n",
    "  def grad_w_mse(self, x, y):\n",
    "    y_pred = self.sigmoid(self.perceptron(x))\n",
    "    return (y_pred - y) * y_pred * (1 - y_pred) * x\n",
    "  \n",
    "  def grad_b_mse(self, x, y):\n",
    "    y_pred = self.sigmoid(self.perceptron(x))\n",
    "    return (y_pred - y) * y_pred * (1 - y_pred)\n",
    "  \n",
    "  def grad_w_ce(self, x, y):\n",
    "    y_pred = self.sigmoid(self.perceptron(x))\n",
    "    if y == 0:\n",
    "      return y_pred * x\n",
    "    elif y == 1:\n",
    "      return -1 * (1 - y_pred) * x\n",
    "    else:\n",
    "      raise ValueError(\"y should be 0 or 1\")\n",
    "    \n",
    "  def grad_b_ce(self, x, y):\n",
    "    y_pred = self.sigmoid(self.perceptron(x))\n",
    "    if y == 0:\n",
    "      return y_pred \n",
    "    elif y == 1:\n",
    "      return -1 * (1 - y_pred)\n",
    "    else:\n",
    "      raise ValueError(\"y should be 0 or 1\")\n",
    "  \n",
    "  def fit(self, X, Y, epochs=1, learning_rate=1, initialise=True, loss_fn=\"mse\", display_loss=False):\n",
    "    \n",
    "    # initialise w, b\n",
    "    if initialise:\n",
    "      np.random.seed(0)  \n",
    "      self.w = np.random.randn(1, X.shape[1])\n",
    "      self.b = 0\n",
    "      self.i = self.w  \n",
    "      \n",
    "    if display_loss:\n",
    "      loss = {}\n",
    "    \n",
    "    for i in tqdm_notebook(range(epochs), total=epochs, unit=\"epoch\"):\n",
    "      dw = 0\n",
    "      db = 0\n",
    "      for x, y in zip(X, Y):\n",
    "        if loss_fn == \"mse\":\n",
    "          dw += self.grad_w_mse(x, y)\n",
    "          db += self.grad_b_mse(x, y) \n",
    "        elif loss_fn == \"ce\":\n",
    "          dw += self.grad_w_ce(x, y)\n",
    "          db += self.grad_b_ce(x, y)\n",
    "      self.w -= learning_rate * dw\n",
    "      self.b -= learning_rate * db\n",
    "      \n",
    "      if display_loss:\n",
    "        Y_pred = self.sigmoid(self.perceptron(X))\n",
    "        if loss_fn == \"mse\":\n",
    "          loss[i] = mean_squared_error(Y, Y_pred)\n",
    "        elif loss_fn == \"ce\":\n",
    "          loss[i] = log_loss(Y, Y_pred)\n",
    "    \n",
    "    if display_loss:\n",
    "      plt.plot(loss.values())\n",
    "      print(list(loss.values())[-1])\n",
    "      plt.xlabel('Epochs')\n",
    "      if loss_fn == \"mse\":\n",
    "        plt.ylabel('Mean Squared Error')\n",
    "      elif loss_fn == \"ce\":\n",
    "        plt.ylabel('Log Loss')\n",
    "      plt.show()\n",
    "      \n",
    "  def predict(self, X):\n",
    "    Y_pred = []\n",
    "    for x in X:\n",
    "      y_pred = self.sigmoid(self.perceptron(x))\n",
    "      Y_pred.append(y_pred)\n",
    "    return np.array(Y_pred)"
   ]
  },
  {
   "cell_type": "code",
   "execution_count": 3,
   "metadata": {
    "_uuid": "50870df2dc22f4b22bfdbc1f56cb9bf36bee5a00",
    "colab": {},
    "colab_type": "code",
    "id": "VDe2wjl_ijH0"
   },
   "outputs": [],
   "source": [
    "def read_all(folder_path, key_prefix=\"\"):\n",
    "    '''\n",
    "    It returns a dictionary with 'file names' as keys and 'flattened image arrays' as values.\n",
    "    '''\n",
    "    print(\"Reading:\")\n",
    "    images = {}\n",
    "    files = os.listdir(folder_path)\n",
    "    for i, file_name in tqdm_notebook(enumerate(files), total=len(files)):\n",
    "        file_path = os.path.join(folder_path, file_name)\n",
    "        image_index = key_prefix + file_name[:-4]\n",
    "        image = Image.open(file_path)\n",
    "        image = image.convert(\"L\")\n",
    "        images[image_index] = np.array(image.copy()).flatten()\n",
    "        image.close()\n",
    "    return images"
   ]
  },
  {
   "cell_type": "code",
   "execution_count": 4,
   "metadata": {
    "_uuid": "563c2d6896d4c3b299a7fede6e3bf099510ce17f",
    "colab": {},
    "colab_type": "code",
    "id": "mjuaN532ijH4",
    "outputId": "4124ae5e-4a9c-44dc-8c84-7919e6927fe5"
   },
   "outputs": [
    {
     "name": "stdout",
     "output_type": "stream",
     "text": [
      "Reading:\n"
     ]
    },
    {
     "data": {
      "application/vnd.jupyter.widget-view+json": {
       "model_id": "d9b7832fa57b41528cf890760450855f",
       "version_major": 2,
       "version_minor": 0
      },
      "text/plain": [
       "HBox(children=(IntProgress(value=0, max=450), HTML(value='')))"
      ]
     },
     "metadata": {},
     "output_type": "display_data"
    },
    {
     "name": "stdout",
     "output_type": "stream",
     "text": [
      "\n",
      "Reading:\n"
     ]
    },
    {
     "data": {
      "application/vnd.jupyter.widget-view+json": {
       "model_id": "618c2ecdb41d48dabe52c467a341b7ef",
       "version_major": 2,
       "version_minor": 0
      },
      "text/plain": [
       "HBox(children=(IntProgress(value=0, max=150), HTML(value='')))"
      ]
     },
     "metadata": {},
     "output_type": "display_data"
    },
    {
     "name": "stdout",
     "output_type": "stream",
     "text": [
      "\n",
      "Reading:\n"
     ]
    },
    {
     "data": {
      "application/vnd.jupyter.widget-view+json": {
       "model_id": "6b307897b699473a88607ef6a360a53c",
       "version_major": 2,
       "version_minor": 0
      },
      "text/plain": [
       "HBox(children=(IntProgress(value=0, max=150), HTML(value='')))"
      ]
     },
     "metadata": {},
     "output_type": "display_data"
    },
    {
     "name": "stdout",
     "output_type": "stream",
     "text": [
      "\n",
      "Reading:\n"
     ]
    },
    {
     "data": {
      "application/vnd.jupyter.widget-view+json": {
       "model_id": "61a9110ffba044f9bf707f0ea9b49e4a",
       "version_major": 2,
       "version_minor": 0
      },
      "text/plain": [
       "HBox(children=(IntProgress(value=0, max=150), HTML(value='')))"
      ]
     },
     "metadata": {},
     "output_type": "display_data"
    },
    {
     "name": "stdout",
     "output_type": "stream",
     "text": [
      "\n",
      "900\n",
      "Reading:\n"
     ]
    },
    {
     "data": {
      "application/vnd.jupyter.widget-view+json": {
       "model_id": "938de8dcd523478ea2a08e93abaff837",
       "version_major": 2,
       "version_minor": 0
      },
      "text/plain": [
       "HBox(children=(IntProgress(value=0, max=300), HTML(value='')))"
      ]
     },
     "metadata": {},
     "output_type": "display_data"
    },
    {
     "name": "stdout",
     "output_type": "stream",
     "text": [
      "\n",
      "300\n"
     ]
    }
   ],
   "source": [
    "languages = ['ta', 'hi', 'en']\n",
    "\n",
    "images_train = read_all(\"../input/level_1_train/\"+LEVEL+\"/\"+\"background\", key_prefix='bgr_') # change the path\n",
    "for language in languages:\n",
    "  images_train.update(read_all(\"../input/level_1_train/\"+LEVEL+\"/\"+language, key_prefix=language+\"_\" ))\n",
    "print(len(images_train))\n",
    "\n",
    "images_test = read_all(\"../input/level_1_test/kaggle_\"+LEVEL, key_prefix='') # change the path\n",
    "print(len(images_test))"
   ]
  },
  {
   "cell_type": "code",
   "execution_count": 5,
   "metadata": {
    "_uuid": "861c95ceb661937e68a0099230e3665b2e9f6305",
    "colab": {},
    "colab_type": "code",
    "id": "xqcTJRmSijH-",
    "outputId": "3a26f608-868b-498d-b18d-bfae2b452d4e"
   },
   "outputs": [
    {
     "data": {
      "text/plain": [
       "['145', '34', '90', '261', '48']"
      ]
     },
     "execution_count": 5,
     "metadata": {},
     "output_type": "execute_result"
    }
   ],
   "source": [
    "list(images_test.keys())[:5]"
   ]
  },
  {
   "cell_type": "code",
   "execution_count": 6,
   "metadata": {
    "_uuid": "ccaa90ca327348fe9c6091ab7c354a52e9586977",
    "colab": {},
    "colab_type": "code",
    "id": "yQUKxV_FijIC",
    "outputId": "e6f2538b-3285-49ea-d6fd-7fbadc2bb975",
    "scrolled": false
   },
   "outputs": [
    {
     "name": "stdout",
     "output_type": "stream",
     "text": [
      "(900, 256) (900,)\n",
      "(300, 256)\n"
     ]
    }
   ],
   "source": [
    "X_train = []\n",
    "Y_train = []\n",
    "for key, value in images_train.items():\n",
    "    X_train.append(value)\n",
    "    if key[:4] == \"bgr_\":\n",
    "        Y_train.append(0)\n",
    "    else:\n",
    "        Y_train.append(1)\n",
    "\n",
    "ID_test = []\n",
    "X_test = []\n",
    "for key, value in images_test.items():\n",
    "  ID_test.append(int(key))\n",
    "  X_test.append(value)\n",
    "  \n",
    "        \n",
    "X_train = np.array(X_train)\n",
    "Y_train = np.array(Y_train)\n",
    "X_test = np.array(X_test)\n",
    "\n",
    "print(X_train.shape, Y_train.shape)\n",
    "print(X_test.shape)"
   ]
  },
  {
   "cell_type": "code",
   "execution_count": 7,
   "metadata": {
    "_uuid": "0391ef152ca127a4598a3714feb02b2077cd7c11",
    "colab": {},
    "colab_type": "code",
    "id": "wy3IKx26ijIG",
    "outputId": "f571f85d-1fe6-4a33-bcf1-ca1574aa3709"
   },
   "outputs": [
    {
     "name": "stderr",
     "output_type": "stream",
     "text": [
      "/opt/conda/lib/python3.6/site-packages/sklearn/utils/validation.py:595: DataConversionWarning: Data with input dtype uint8 was converted to float64 by StandardScaler.\n",
      "  warnings.warn(msg, DataConversionWarning)\n",
      "/opt/conda/lib/python3.6/site-packages/sklearn/utils/validation.py:595: DataConversionWarning: Data with input dtype uint8 was converted to float64 by StandardScaler.\n",
      "  warnings.warn(msg, DataConversionWarning)\n",
      "/opt/conda/lib/python3.6/site-packages/sklearn/utils/validation.py:595: DataConversionWarning: Data with input dtype uint8 was converted to float64 by StandardScaler.\n",
      "  warnings.warn(msg, DataConversionWarning)\n"
     ]
    }
   ],
   "source": [
    "scaler = StandardScaler()\n",
    "X_scaled_train = scaler.fit_transform(X_train)\n",
    "X_scaled_test = scaler.transform(X_test)"
   ]
  },
  {
   "cell_type": "code",
   "execution_count": 8,
   "metadata": {
    "_uuid": "b60d02b068a879ecfed224fc71e9d2431a0d9876",
    "colab": {},
    "colab_type": "code",
    "id": "eboQW2n1ijIK",
    "outputId": "fa8fbf5d-5d5c-4463-aa3c-909d6698b9b0",
    "scrolled": true
   },
   "outputs": [
    {
     "data": {
      "application/vnd.jupyter.widget-view+json": {
       "model_id": "34a2a672c0d24239853159f7d980b7ec",
       "version_major": 2,
       "version_minor": 0
      },
      "text/plain": [
       "HBox(children=(IntProgress(value=0, max=550), HTML(value='')))"
      ]
     },
     "metadata": {},
     "output_type": "display_data"
    },
    {
     "name": "stdout",
     "output_type": "stream",
     "text": [
      "\n",
      "0.017779027997257026\n"
     ]
    },
    {
     "data": {
      "image/png": "[encoded data removed]",
      "text/plain": [
       "<Figure size 432x288 with 1 Axes>"
      ]
     },
     "metadata": {},
     "output_type": "display_data"
    }
   ],
   "source": [
    "sn_mse = SigmoidNeuron()\n",
    "sn_mse.fit(X_scaled_train, Y_train, epochs=550, learning_rate=.087, loss_fn=\"mse\", display_loss=True)"
   ]
  },
  {
   "cell_type": "code",
   "execution_count": 9,
   "metadata": {
    "_uuid": "419d17749fa5017fddd7e12c2ae468539dddbbf4",
    "colab": {},
    "colab_type": "code",
    "id": "547SFsgsijIO",
    "outputId": "e6595d5e-a9e0-4b5f-f7b5-a56297bc69c0",
    "scrolled": true
   },
   "outputs": [
    {
     "data": {
      "application/vnd.jupyter.widget-view+json": {
       "model_id": "492bd6c8993146ae9ea20650905823d7",
       "version_major": 2,
       "version_minor": 0
      },
      "text/plain": [
       "HBox(children=(IntProgress(value=0), HTML(value='')))"
      ]
     },
     "metadata": {},
     "output_type": "display_data"
    },
    {
     "name": "stdout",
     "output_type": "stream",
     "text": [
      "\n",
      "0.014138867239214275\n"
     ]
    },
    {
     "data": {
      "image/png": "[encoded data removed]",
      "text/plain": [
       "<Figure size 432x288 with 1 Axes>"
      ]
     },
     "metadata": {},
     "output_type": "display_data"
    }
   ],
   "source": [
    "sn_ce = SigmoidNeuron()\n",
    "sn_ce.fit(X_scaled_train, Y_train, epochs=100, learning_rate=0.0079, loss_fn=\"ce\", display_loss=True)"
   ]
  },
  {
   "cell_type": "code",
   "execution_count": 10,
   "metadata": {
    "_uuid": "df091100f5956da6467ab2bec61ada70ff68a88c",
    "colab": {},
    "colab_type": "code",
    "id": "_a3_-9zYijIS"
   },
   "outputs": [],
   "source": [
    "def print_accuracy(sn):\n",
    "  Y_pred_train = sn.predict(X_scaled_train)\n",
    "  Y_pred_binarised_train = (Y_pred_train >= 0.5).astype(\"int\").ravel()\n",
    "  accuracy_train = accuracy_score(Y_pred_binarised_train, Y_train)\n",
    "  print(\"Train Accuracy : \", accuracy_train)\n",
    "  print(\"-\"*50)"
   ]
  },
  {
   "cell_type": "code",
   "execution_count": 11,
   "metadata": {
    "_uuid": "11ee12a2577ce3e8807efabfd0e6070b9cdc26a1",
    "colab": {},
    "colab_type": "code",
    "id": "lqe2g9PLijIW",
    "outputId": "0ce4b45c-78f5-4323-829b-db3e12c3f268"
   },
   "outputs": [
    {
     "name": "stdout",
     "output_type": "stream",
     "text": [
      "Train Accuracy :  0.9822222222222222\n",
      "--------------------------------------------------\n",
      "Train Accuracy :  0.9988888888888889\n",
      "--------------------------------------------------\n"
     ]
    }
   ],
   "source": [
    "print_accuracy(sn_mse)\n",
    "print_accuracy(sn_ce)"
   ]
  },
  {
   "cell_type": "markdown",
   "metadata": {
    "_uuid": "43acd13aaaffaf6ca209a96c2ad9efb8ddf87694",
    "colab_type": "text",
    "id": "8IMv7SCUijIa"
   },
   "source": [
    "## Sample Submission"
   ]
  },
  {
   "cell_type": "code",
   "execution_count": 12,
   "metadata": {
    "_uuid": "bc59d50b10a7008533f50fc06df77f947dc247c0",
    "colab": {},
    "colab_type": "code",
    "id": "4_pBsgYlijIb"
   },
   "outputs": [],
   "source": [
    "Y_pred_test = sn_mse.predict(X_scaled_test)\n",
    "Y_pred_binarised_test = (Y_pred_test >= 0.5).astype(\"int\").ravel()\n",
    "\n",
    "submission = {}\n",
    "submission['ImageId'] = ID_test\n",
    "submission['Class'] = Y_pred_binarised_test\n",
    "\n",
    "submission = pd.DataFrame(submission)\n",
    "submission = submission[['ImageId', 'Class']]\n",
    "submission = submission.sort_values(['ImageId'])\n",
    "submission.to_csv(\"submisision.csv\", index=False)"
   ]
  },
  {
   "cell_type": "code",
   "execution_count": 13,
   "metadata": {
    "_uuid": "a5554528d306c283ca7fe7483bb769f43f555cd0"
   },
   "outputs": [],
   "source": []
  }
 ],
 "metadata": {
  "colab": {
   "collapsed_sections": [],
   "name": "Text - Non Text Classification.ipynb",
   "provenance": [],
   "version": "0.3.2"
  },
  "kernelspec": {
   "display_name": "Python 3",
   "language": "python",
   "name": "python3"
  },
  "language_info": {
   "codemirror_mode": {
    "name": "ipython",
    "version": 3
   },
   "file_extension": ".py",
   "mimetype": "text/x-python",
   "name": "python",
   "nbconvert_exporter": "python",
   "pygments_lexer": "ipython3",
   "version": "3.6.6"
  }
 },
 "nbformat": 4,
 "nbformat_minor": 1
}
